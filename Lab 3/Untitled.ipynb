{
 "cells": [
  {
   "cell_type": "code",
   "execution_count": 6,
   "metadata": {},
   "outputs": [
    {
     "ename": "SyntaxError",
     "evalue": "invalid syntax (<ipython-input-6-a04afcae3f27>, line 1)",
     "output_type": "error",
     "traceback": [
      "\u001b[1;36m  File \u001b[1;32m\"<ipython-input-6-a04afcae3f27>\"\u001b[1;36m, line \u001b[1;32m1\u001b[0m\n\u001b[1;33m    def( 'TWITCH_CLIENT_ID', 'li9n3gp7t0b1wn92f7tk60bk21hwfr');\u001b[0m\n\u001b[1;37m       ^\u001b[0m\n\u001b[1;31mSyntaxError\u001b[0m\u001b[1;31m:\u001b[0m invalid syntax\n"
     ]
    }
   ],
   "source": [
    "def( 'TWITCH_CLIENT_ID', 'li9n3gp7t0b1wn92f7tk60bk21hwfr');\n",
    "def( 'TWITCH_CLIENT_SECRET', '9vwsib966m0mlcmhkb3kn1rtroit5g');\n",
    "def( 'TWITCH_REDIRECT_URI', 'http://localhost');"
   ]
  },
  {
   "cell_type": "code",
   "execution_count": null,
   "metadata": {},
   "outputs": [],
   "source": []
  },
  {
   "cell_type": "code",
   "execution_count": 8,
   "metadata": {},
   "outputs": [
    {
     "ename": "SyntaxError",
     "evalue": "invalid syntax (<ipython-input-8-8f66d7c69955>, line 1)",
     "output_type": "error",
     "traceback": [
      "\u001b[1;36m  File \u001b[1;32m\"<ipython-input-8-8f66d7c69955>\"\u001b[1;36m, line \u001b[1;32m1\u001b[0m\n\u001b[1;33m    def ( 'TWITCH_CLIENT_ID', 'li9n3gp7t0b1wn92f7tk60bk21hwfr');\u001b[0m\n\u001b[1;37m        ^\u001b[0m\n\u001b[1;31mSyntaxError\u001b[0m\u001b[1;31m:\u001b[0m invalid syntax\n"
     ]
    }
   ],
   "source": [
    "def ( 'TWITCH_CLIENT_ID', 'li9n3gp7t0b1wn92f7tk60bk21hwfr');"
   ]
  },
  {
   "cell_type": "code",
   "execution_count": null,
   "metadata": {},
   "outputs": [],
   "source": []
  },
  {
   "cell_type": "code",
   "execution_count": null,
   "metadata": {},
   "outputs": [],
   "source": []
  }
 ],
 "metadata": {
  "kernelspec": {
   "display_name": "Python 3",
   "language": "python",
   "name": "python3"
  },
  "language_info": {
   "codemirror_mode": {
    "name": "ipython",
    "version": 3
   },
   "file_extension": ".py",
   "mimetype": "text/x-python",
   "name": "python",
   "nbconvert_exporter": "python",
   "pygments_lexer": "ipython3",
   "version": "3.8.5"
  }
 },
 "nbformat": 4,
 "nbformat_minor": 4
}
